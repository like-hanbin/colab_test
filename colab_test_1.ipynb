{
  "nbformat": 4,
  "nbformat_minor": 0,
  "metadata": {
    "colab": {
      "provenance": [],
      "authorship_tag": "ABX9TyPmyytIKnMfcfPlqd124bMu",
      "include_colab_link": true
    },
    "kernelspec": {
      "name": "python3",
      "display_name": "Python 3"
    },
    "language_info": {
      "name": "python"
    }
  },
  "cells": [
    {
      "cell_type": "markdown",
      "metadata": {
        "id": "view-in-github",
        "colab_type": "text"
      },
      "source": [
        "<a href=\"https://colab.research.google.com/github/like-hanbin/colab_test/blob/main/colab_test_1.ipynb\" target=\"_parent\"><img src=\"https://colab.research.google.com/assets/colab-badge.svg\" alt=\"Open In Colab\"/></a>"
      ]
    },
    {
      "cell_type": "code",
      "execution_count": null,
      "metadata": {
        "colab": {
          "base_uri": "https://localhost:8080/"
        },
        "id": "w-EOKEktw0X9",
        "outputId": "1b0a536c-3a8f-43d7-83e6-10af0d60c260"
      },
      "outputs": [
        {
          "output_type": "stream",
          "name": "stdout",
          "text": [
            "test?\n"
          ]
        }
      ],
      "source": [
        "print(\"test?\")"
      ]
    },
    {
      "cell_type": "code",
      "source": [
        "print(\"1111\")"
      ],
      "metadata": {
        "id": "Bpsog5RoxE9j",
        "outputId": "5cf592f2-cba7-4fdb-a901-acd559857d95",
        "colab": {
          "base_uri": "https://localhost:8080/"
        }
      },
      "execution_count": null,
      "outputs": [
        {
          "output_type": "stream",
          "name": "stdout",
          "text": [
            "1111\n"
          ]
        }
      ]
    }
  ]
}